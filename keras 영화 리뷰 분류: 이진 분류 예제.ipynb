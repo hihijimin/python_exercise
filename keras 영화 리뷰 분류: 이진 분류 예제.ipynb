{
  "nbformat": 4,
  "nbformat_minor": 0,
  "metadata": {
    "colab": {
      "name": "Untitled3.ipynb",
      "provenance": [],
      "include_colab_link": true
    },
    "kernelspec": {
      "name": "python3",
      "display_name": "Python 3"
    }
  },
  "cells": [
    {
      "cell_type": "markdown",
      "metadata": {
        "id": "view-in-github",
        "colab_type": "text"
      },
      "source": [
        "<a href=\"https://colab.research.google.com/github/hihijimin/python_exercise/blob/master/keras%20%EC%98%81%ED%99%94%20%EB%A6%AC%EB%B7%B0%20%EB%B6%84%EB%A5%98%3A%20%EC%9D%B4%EC%A7%84%20%EB%B6%84%EB%A5%98%20%EC%98%88%EC%A0%9C.ipynb\" target=\"_parent\"><img src=\"https://colab.research.google.com/assets/colab-badge.svg\" alt=\"Open In Colab\"/></a>"
      ]
    },
    {
      "cell_type": "code",
      "metadata": {
        "id": "OFtlRQ185bOO",
        "colab_type": "code",
        "colab": {}
      },
      "source": [
        "### 영화 분류 2진 분류 문제\n",
        "# 2019.11.13"
      ],
      "execution_count": 0,
      "outputs": []
    },
    {
      "cell_type": "code",
      "metadata": {
        "id": "SzqvVrDH6ift",
        "colab_type": "code",
        "outputId": "76c34997-0a20-41a1-fffc-615e33837fa8",
        "colab": {
          "base_uri": "https://localhost:8080/",
          "height": 80
        }
      },
      "source": [
        "import tensorflow as tf"
      ],
      "execution_count": 3,
      "outputs": [
        {
          "output_type": "display_data",
          "data": {
            "text/html": [
              "<p style=\"color: red;\">\n",
              "The default version of TensorFlow in Colab will soon switch to TensorFlow 2.x.<br>\n",
              "We recommend you <a href=\"https://www.tensorflow.org/guide/migrate\" target=\"_blank\">upgrade</a> now \n",
              "or ensure your notebook will continue to use TensorFlow 1.x via the <code>%tensorflow_version 1.x</code> magic:\n",
              "<a href=\"https://colab.research.google.com/notebooks/tensorflow_version.ipynb\" target=\"_blank\">more info</a>.</p>\n"
            ],
            "text/plain": [
              "<IPython.core.display.HTML object>"
            ]
          },
          "metadata": {
            "tags": []
          }
        }
      ]
    },
    {
      "cell_type": "code",
      "metadata": {
        "id": "83cEa4156_3X",
        "colab_type": "code",
        "outputId": "34066456-6e57-4e34-a769-3bc5282ab74e",
        "colab": {
          "base_uri": "https://localhost:8080/",
          "height": 34
        }
      },
      "source": [
        "from keras.datasets import imdb"
      ],
      "execution_count": 4,
      "outputs": [
        {
          "output_type": "stream",
          "text": [
            "Using TensorFlow backend.\n"
          ],
          "name": "stderr"
        }
      ]
    },
    {
      "cell_type": "code",
      "metadata": {
        "id": "LL2xGMDv5lzg",
        "colab_type": "code",
        "colab": {}
      },
      "source": [
        "# from keras.dataset import imdb\n",
        "(train_data, train_labels),(test_data, test_labels)=imdb.load_data(num_words=10000)"
      ],
      "execution_count": 0,
      "outputs": []
    },
    {
      "cell_type": "code",
      "metadata": {
        "id": "ZtPH6GGn9g3S",
        "colab_type": "code",
        "outputId": "b42350fe-9812-4841-80b6-812728c3249f",
        "colab": {
          "base_uri": "https://localhost:8080/",
          "height": 34
        }
      },
      "source": [
        "max([max(se) for se in train_data])"
      ],
      "execution_count": 6,
      "outputs": [
        {
          "output_type": "execute_result",
          "data": {
            "text/plain": [
              "9999"
            ]
          },
          "metadata": {
            "tags": []
          },
          "execution_count": 6
        }
      ]
    },
    {
      "cell_type": "code",
      "metadata": {
        "id": "gZXkP_vI_WL8",
        "colab_type": "code",
        "colab": {}
      },
      "source": [
        "#시험삼아 단어 데이터 하나를 바꿔 보겟어 \n",
        "word_index = imdb.get_word_index()\n",
        "reverse_word_index =dict([(value, key) for(key, value) in word_index.items()])\n",
        "decorded_review =' '.join([reverse_word_index.get(i-3,'?') for i in train_data[0]])"
      ],
      "execution_count": 0,
      "outputs": []
    },
    {
      "cell_type": "code",
      "metadata": {
        "id": "MnxQVVeOABIR",
        "colab_type": "code",
        "colab": {}
      },
      "source": [
        "import numpy as np\n",
        "\n",
        "def vectorize_sequences(sequences, dimension=10000):\n",
        "  result =np.zeros((len(sequences), dimension))\n",
        "  for i, sequence in enumerate(sequences):\n",
        "    result[i,sequence]=1.\n",
        "  return result\n",
        "\n",
        "x_train =vectorize_sequences(train_data)\n",
        "x_test =vectorize_sequences(test_data)"
      ],
      "execution_count": 0,
      "outputs": []
    },
    {
      "cell_type": "code",
      "metadata": {
        "id": "vqqU789aDFw3",
        "colab_type": "code",
        "outputId": "2c7730e5-c063-466f-8718-3cefbbaecdbd",
        "colab": {
          "base_uri": "https://localhost:8080/",
          "height": 34
        }
      },
      "source": [
        "x_train[0:].shape"
      ],
      "execution_count": 9,
      "outputs": [
        {
          "output_type": "execute_result",
          "data": {
            "text/plain": [
              "(25000, 10000)"
            ]
          },
          "metadata": {
            "tags": []
          },
          "execution_count": 9
        }
      ]
    },
    {
      "cell_type": "code",
      "metadata": {
        "id": "kHID6-dnDS4k",
        "colab_type": "code",
        "colab": {}
      },
      "source": [
        "y_train =np.asarray(train_labels).astype('float32')\n",
        "y_test=np.asarray(test_labels).astype('float32')\n"
      ],
      "execution_count": 0,
      "outputs": []
    },
    {
      "cell_type": "code",
      "metadata": {
        "id": "wg7mjGqtEoDD",
        "colab_type": "code",
        "outputId": "19e3694b-0b27-4ab3-f3ce-3b9453b9a5c3",
        "colab": {
          "base_uri": "https://localhost:8080/",
          "height": 90
        }
      },
      "source": [
        "model = tf.keras.models.Sequential()\n",
        "\n",
        "model.add(tf.keras.layers.Dense(16,activation='relu',input_shape=(10000,)))\n",
        "model.add(tf.keras.layers.Dense(16,activation='relu'))\n",
        "model.add(tf.keras.layers.Dense(1,activation='sigmoid'))"
      ],
      "execution_count": 11,
      "outputs": [
        {
          "output_type": "stream",
          "text": [
            "WARNING:tensorflow:From /usr/local/lib/python3.6/dist-packages/tensorflow_core/python/ops/resource_variable_ops.py:1630: calling BaseResourceVariable.__init__ (from tensorflow.python.ops.resource_variable_ops) with constraint is deprecated and will be removed in a future version.\n",
            "Instructions for updating:\n",
            "If using Keras pass *_constraint arguments to layers.\n"
          ],
          "name": "stdout"
        }
      ]
    },
    {
      "cell_type": "code",
      "metadata": {
        "id": "zrdWfaffGf6z",
        "colab_type": "code",
        "outputId": "5e248903-e73d-4ea7-f7e8-a4f81034acbb",
        "colab": {
          "base_uri": "https://localhost:8080/",
          "height": 90
        }
      },
      "source": [
        "model.compile(optimizer=tf.keras.optimizers.RMSprop(learning_rate=0.001),\n",
        "              loss=tf.keras.losses.binary_crossentropy,\n",
        "              metrics=[tf.keras.metrics.binary_accuracy])"
      ],
      "execution_count": 12,
      "outputs": [
        {
          "output_type": "stream",
          "text": [
            "WARNING:tensorflow:From /usr/local/lib/python3.6/dist-packages/tensorflow_core/python/ops/nn_impl.py:183: where (from tensorflow.python.ops.array_ops) is deprecated and will be removed in a future version.\n",
            "Instructions for updating:\n",
            "Use tf.where in 2.0, which has the same broadcast rule as np.where\n"
          ],
          "name": "stdout"
        }
      ]
    },
    {
      "cell_type": "code",
      "metadata": {
        "id": "buL_Hi0EHWQn",
        "colab_type": "code",
        "colab": {}
      },
      "source": [
        "x_val =x_train[:10000]\n",
        "partial_x_train =x_train[10000:]\n",
        "y_val =y_train[:10000]\n",
        "partial_y_train =y_train[10000:]"
      ],
      "execution_count": 0,
      "outputs": []
    },
    {
      "cell_type": "code",
      "metadata": {
        "id": "Yzl7v0u0Ig2k",
        "colab_type": "code",
        "outputId": "fb28e4f1-0c31-485d-ff5e-0664c26fa50f",
        "colab": {
          "base_uri": "https://localhost:8080/",
          "height": 230
        }
      },
      "source": [
        "#모델 훈련하기\n",
        "model.compile(optimizer='rmsprop', loss='binary_crossentropy', metrics=['acc'])\n",
        "history=model.fit(partial_x_train, partial_y_train,\n",
        "                  epochs=5, batch_size=512, validation_data=(x_val,y_val))\n"
      ],
      "execution_count": 20,
      "outputs": [
        {
          "output_type": "stream",
          "text": [
            "Train on 15000 samples, validate on 10000 samples\n",
            "Epoch 1/5\n",
            "15000/15000 [==============================] - 3s 225us/sample - loss: 0.0110 - acc: 0.9979 - val_loss: 0.7195 - val_acc: 0.8654\n",
            "Epoch 2/5\n",
            "15000/15000 [==============================] - 1s 97us/sample - loss: 0.0014 - acc: 0.9999 - val_loss: 0.7475 - val_acc: 0.8654\n",
            "Epoch 3/5\n",
            "15000/15000 [==============================] - 1s 96us/sample - loss: 0.0049 - acc: 0.9987 - val_loss: 0.8139 - val_acc: 0.8617\n",
            "Epoch 4/5\n",
            "15000/15000 [==============================] - 1s 96us/sample - loss: 8.8770e-04 - acc: 0.9999 - val_loss: 0.8072 - val_acc: 0.8633\n",
            "Epoch 5/5\n",
            "15000/15000 [==============================] - 1s 100us/sample - loss: 7.3361e-04 - acc: 0.9999 - val_loss: 0.8422 - val_acc: 0.8625\n"
          ],
          "name": "stdout"
        }
      ]
    },
    {
      "cell_type": "code",
      "metadata": {
        "id": "MXU3QStnJyRm",
        "colab_type": "code",
        "outputId": "1b9a2a9c-324e-48ef-b7ee-226e766a0fd2",
        "colab": {
          "base_uri": "https://localhost:8080/",
          "height": 295
        }
      },
      "source": [
        "import matplotlib.pyplot as plt\n",
        "\n",
        "history_dict = history.history\n",
        "loss =history_dict['loss']\n",
        "loss_val=history_dict['val_loss']\n",
        "\n",
        "epochs =range(1,len(loss)+1)\n",
        "\n",
        "plt.plot(epochs, loss, 'bo',label='Train_result')\n",
        "plt.plot(epochs, loss_val, 'b', label='Train_Val_result')\n",
        "plt.title('Training and validation loss')\n",
        "plt.xlabel('epochs')\n",
        "plt.ylabel('loss')\n",
        "plt.legend()\n",
        "plt.show()"
      ],
      "execution_count": 21,
      "outputs": [
        {
          "output_type": "display_data",
          "data": {
            "image/png": "[encoded data removed]",
            "text/plain": [
              "<Figure size 432x288 with 1 Axes>"
            ]
          },
          "metadata": {
            "tags": []
          }
        }
      ]
    },
    {
      "cell_type": "code",
      "metadata": {
        "id": "nVspDdxrKFux",
        "colab_type": "code",
        "outputId": "79fcac28-d5e3-4309-eac9-e6be906d0f83",
        "colab": {
          "base_uri": "https://localhost:8080/",
          "height": 279
        }
      },
      "source": [
        "plt.clf()\n",
        "acc =history_dict['acc']\n",
        "acc_val =history_dict['val_acc']\n",
        "\n",
        "plt.plot(epochs, acc, 'bo',label='Training acc')\n",
        "plt.plot(epochs, acc_val, 'b', label='Validataion acc')\n",
        "plt.xlabel('epochs')\n",
        "plt.ylabel('acc')\n",
        "plt.legend()\n",
        "plt.show()"
      ],
      "execution_count": 22,
      "outputs": [
        {
          "output_type": "display_data",
          "data": {
            "image/png": "[encoded data removed]",
            "text/plain": [
              "<Figure size 432x288 with 1 Axes>"
            ]
          },
          "metadata": {
            "tags": []
          }
        }
      ]
    },
    {
      "cell_type": "code",
      "metadata": {
        "id": "pw97pnrhTjv2",
        "colab_type": "code",
        "colab": {
          "base_uri": "https://localhost:8080/",
          "height": 54
        },
        "outputId": "bbe50374-a420-4301-87d9-6ec26c515dcb"
      },
      "source": [
        "result = model.evaluate(x_test,y_test)"
      ],
      "execution_count": 23,
      "outputs": [
        {
          "output_type": "stream",
          "text": [
            "25000/25000 [==============================] - 2s 73us/sample - loss: 0.9207 - acc: 0.8487\n"
          ],
          "name": "stdout"
        }
      ]
    },
    {
      "cell_type": "code",
      "metadata": {
        "id": "DJMON9LpUF3o",
        "colab_type": "code",
        "colab": {
          "base_uri": "https://localhost:8080/",
          "height": 140
        },
        "outputId": "74314c24-7210-4bf7-b285-b9dd1e863063"
      },
      "source": [
        "model.predict(x_test)"
      ],
      "execution_count": 24,
      "outputs": [
        {
          "output_type": "execute_result",
          "data": {
            "text/plain": [
              "array([[9.4759464e-04],\n",
              "       [9.9999988e-01],\n",
              "       [9.9933457e-01],\n",
              "       ...,\n",
              "       [5.7944655e-04],\n",
              "       [3.6761761e-03],\n",
              "       [4.6501321e-01]], dtype=float32)"
            ]
          },
          "metadata": {
            "tags": []
          },
          "execution_count": 24
        }
      ]
    }
  ]
}