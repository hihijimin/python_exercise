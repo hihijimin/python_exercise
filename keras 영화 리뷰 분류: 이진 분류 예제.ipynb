{
  "nbformat": 4,
  "nbformat_minor": 0,
  "metadata": {
    "colab": {
      "name": "Untitled3.ipynb",
      "provenance": [],
      "include_colab_link": true
    },
    "kernelspec": {
      "name": "python3",
      "display_name": "Python 3"
    }
  },
  "cells": [
    {
      "cell_type": "markdown",
      "metadata": {
        "id": "view-in-github",
        "colab_type": "text"
      },
      "source": [
        "<a href=\"https://colab.research.google.com/github/hihijimin/python_exercise/blob/master/keras%20%EC%98%81%ED%99%94%20%EB%A6%AC%EB%B7%B0%20%EB%B6%84%EB%A5%98%3A%20%EC%9D%B4%EC%A7%84%20%EB%B6%84%EB%A5%98%20%EC%98%88%EC%A0%9C.ipynb\" target=\"_parent\"><img src=\"https://colab.research.google.com/assets/colab-badge.svg\" alt=\"Open In Colab\"/></a>"
      ]
    },
    {
      "cell_type": "code",
      "metadata": {
        "id": "OFtlRQ185bOO",
        "colab_type": "code",
        "colab": {}
      },
      "source": [
        "### 영화 분류 2진 분류 문제\n",
        "# 2019.11.13"
      ],
      "execution_count": 0,
      "outputs": []
    },
    {
      "cell_type": "code",
      "metadata": {
        "id": "SzqvVrDH6ift",
        "colab_type": "code",
        "colab": {
          "base_uri": "https://localhost:8080/",
          "height": 80
        },
        "outputId": "55ff034f-1444-44b9-80f1-52a8914613aa"
      },
      "source": [
        "import tensorflow as tf"
      ],
      "execution_count": 2,
      "outputs": [
        {
          "output_type": "display_data",
          "data": {
            "text/html": [
              "<p style=\"color: red;\">\n",
              "The default version of TensorFlow in Colab will soon switch to TensorFlow 2.x.<br>\n",
              "We recommend you <a href=\"https://www.tensorflow.org/guide/migrate\" target=\"_blank\">upgrade</a> now \n",
              "or ensure your notebook will continue to use TensorFlow 1.x via the <code>%tensorflow_version 1.x</code> magic:\n",
              "<a href=\"https://colab.research.google.com/notebooks/tensorflow_version.ipynb\" target=\"_blank\">more info</a>.</p>\n"
            ],
            "text/plain": [
              "<IPython.core.display.HTML object>"
            ]
          },
          "metadata": {
            "tags": []
          }
        }
      ]
    },
    {
      "cell_type": "code",
      "metadata": {
        "id": "83cEa4156_3X",
        "colab_type": "code",
        "colab": {
          "base_uri": "https://localhost:8080/",
          "height": 34
        },
        "outputId": "211aa349-60c8-43b5-9b6a-fefdb9f61fe6"
      },
      "source": [
        "from keras.datasets import imdb"
      ],
      "execution_count": 3,
      "outputs": [
        {
          "output_type": "stream",
          "text": [
            "Using TensorFlow backend.\n"
          ],
          "name": "stderr"
        }
      ]
    },
    {
      "cell_type": "code",
      "metadata": {
        "id": "LL2xGMDv5lzg",
        "colab_type": "code",
        "colab": {}
      },
      "source": [
        "# from keras.dataset import imdb\n",
        "(train_data, train_labels),(test_data, test_labels)=imdb.load_data(num_words=10000)"
      ],
      "execution_count": 0,
      "outputs": []
    },
    {
      "cell_type": "code",
      "metadata": {
        "id": "ZtPH6GGn9g3S",
        "colab_type": "code",
        "colab": {
          "base_uri": "https://localhost:8080/",
          "height": 34
        },
        "outputId": "bb2456c1-b1a0-4caf-f850-c2aa26a7b947"
      },
      "source": [
        "max([max(se) for se in train_data])"
      ],
      "execution_count": 6,
      "outputs": [
        {
          "output_type": "execute_result",
          "data": {
            "text/plain": [
              "9999"
            ]
          },
          "metadata": {
            "tags": []
          },
          "execution_count": 6
        }
      ]
    },
    {
      "cell_type": "code",
      "metadata": {
        "id": "gZXkP_vI_WL8",
        "colab_type": "code",
        "colab": {}
      },
      "source": [
        "#시험삼아 단어 데이터 하나를 바꿔 보겟어 \n",
        "word_index = imdb.get_word_index()\n",
        "reverse_word_index =dict([(value, key) for(key, value) in word_index.items()])\n",
        "decorded_review =' '.join([reverse_word_index.get(i-3,'?') for i in train_data[0]])"
      ],
      "execution_count": 0,
      "outputs": []
    },
    {
      "cell_type": "code",
      "metadata": {
        "id": "MnxQVVeOABIR",
        "colab_type": "code",
        "colab": {}
      },
      "source": [
        "import numpy as np\n",
        "\n",
        "def vectorize_sequences(sequences, dimension=10000):\n",
        "  result =np.zeros((len(sequences), dimension))\n",
        "  for i, sequence in enumerate(sequences):\n",
        "    result[i,sequence]=1.\n",
        "  return result\n",
        "\n",
        "x_train =vectorize_sequences(train_data)\n",
        "x_test =vectorize_sequences(test_data)"
      ],
      "execution_count": 0,
      "outputs": []
    },
    {
      "cell_type": "code",
      "metadata": {
        "id": "vqqU789aDFw3",
        "colab_type": "code",
        "colab": {
          "base_uri": "https://localhost:8080/",
          "height": 34
        },
        "outputId": "42126f12-a0a1-4208-d637-f3ee89713ec6"
      },
      "source": [
        "x_train[0:].shape"
      ],
      "execution_count": 47,
      "outputs": [
        {
          "output_type": "execute_result",
          "data": {
            "text/plain": [
              "(25000, 10000)"
            ]
          },
          "metadata": {
            "tags": []
          },
          "execution_count": 47
        }
      ]
    },
    {
      "cell_type": "code",
      "metadata": {
        "id": "kHID6-dnDS4k",
        "colab_type": "code",
        "colab": {}
      },
      "source": [
        "y_train =np.asarray(train_labels).astype('float32')\n",
        "y_test=np.asarray(test_labels).astype('float32')\n"
      ],
      "execution_count": 0,
      "outputs": []
    },
    {
      "cell_type": "code",
      "metadata": {
        "id": "wg7mjGqtEoDD",
        "colab_type": "code",
        "colab": {
          "base_uri": "https://localhost:8080/",
          "height": 90
        },
        "outputId": "8f03e77c-25ca-4117-96e4-87518cfe4ab5"
      },
      "source": [
        "model = tf.keras.models.Sequential()\n",
        "\n",
        "model.add(tf.keras.layers.Dense(16,activation='relu',input_shape=(10000,)))\n",
        "model.add(tf.keras.layers.Dense(16,activation='relu'))\n",
        "model.add(tf.keras.layers.Dense(1,activation='sigmoid'))"
      ],
      "execution_count": 52,
      "outputs": [
        {
          "output_type": "stream",
          "text": [
            "WARNING:tensorflow:From /usr/local/lib/python3.6/dist-packages/tensorflow_core/python/ops/resource_variable_ops.py:1630: calling BaseResourceVariable.__init__ (from tensorflow.python.ops.resource_variable_ops) with constraint is deprecated and will be removed in a future version.\n",
            "Instructions for updating:\n",
            "If using Keras pass *_constraint arguments to layers.\n"
          ],
          "name": "stdout"
        }
      ]
    },
    {
      "cell_type": "code",
      "metadata": {
        "id": "zrdWfaffGf6z",
        "colab_type": "code",
        "colab": {
          "base_uri": "https://localhost:8080/",
          "height": 90
        },
        "outputId": "7ee0ffad-d665-4659-adbd-30396279aaf7"
      },
      "source": [
        "model.compile(optimizer=tf.keras.optimizers.RMSprop(learning_rate=0.001),\n",
        "              loss=tf.keras.losses.binary_crossentropy,\n",
        "              metrics=[tf.keras.metrics.binary_accuracy])"
      ],
      "execution_count": 53,
      "outputs": [
        {
          "output_type": "stream",
          "text": [
            "WARNING:tensorflow:From /usr/local/lib/python3.6/dist-packages/tensorflow_core/python/ops/nn_impl.py:183: where (from tensorflow.python.ops.array_ops) is deprecated and will be removed in a future version.\n",
            "Instructions for updating:\n",
            "Use tf.where in 2.0, which has the same broadcast rule as np.where\n"
          ],
          "name": "stdout"
        }
      ]
    },
    {
      "cell_type": "code",
      "metadata": {
        "id": "buL_Hi0EHWQn",
        "colab_type": "code",
        "colab": {}
      },
      "source": [
        "x_val =x_train[:10000]\n",
        "partial_x_train =x_train[10000:]\n",
        "y_val =y_train[:10000]\n",
        "partial_y_train =y_train[10000:]"
      ],
      "execution_count": 0,
      "outputs": []
    },
    {
      "cell_type": "code",
      "metadata": {
        "id": "Yzl7v0u0Ig2k",
        "colab_type": "code",
        "colab": {
          "base_uri": "https://localhost:8080/",
          "height": 758
        },
        "outputId": "76b14e5e-c3cb-4ccb-a8aa-ee40fdffa56a"
      },
      "source": [
        "#모델 훈련하기\n",
        "model.compile(optimizer='rmsprop', loss='binary_crossentropy', metrics=['acc'])\n",
        "history=model.fit(partial_x_train, partial_y_train,\n",
        "                  epochs=20, batch_size=512, validation_data=(x_val,y_val))\n"
      ],
      "execution_count": 56,
      "outputs": [
        {
          "output_type": "stream",
          "text": [
            "Train on 15000 samples, validate on 10000 samples\n",
            "Epoch 1/20\n",
            "15000/15000 [==============================] - 2s 131us/sample - loss: 0.5377 - acc: 0.7793 - val_loss: 0.4096 - val_acc: 0.8678\n",
            "Epoch 2/20\n",
            "15000/15000 [==============================] - 1s 92us/sample - loss: 0.3273 - acc: 0.9000 - val_loss: 0.3188 - val_acc: 0.8845\n",
            "Epoch 3/20\n",
            "15000/15000 [==============================] - 1s 92us/sample - loss: 0.2341 - acc: 0.9269 - val_loss: 0.3173 - val_acc: 0.8721\n",
            "Epoch 4/20\n",
            "15000/15000 [==============================] - 1s 91us/sample - loss: 0.1837 - acc: 0.9417 - val_loss: 0.2855 - val_acc: 0.8858\n",
            "Epoch 5/20\n",
            "15000/15000 [==============================] - 1s 91us/sample - loss: 0.1474 - acc: 0.9535 - val_loss: 0.2937 - val_acc: 0.8838\n",
            "Epoch 6/20\n",
            "15000/15000 [==============================] - 1s 93us/sample - loss: 0.1225 - acc: 0.9640 - val_loss: 0.2936 - val_acc: 0.8834\n",
            "Epoch 7/20\n",
            "15000/15000 [==============================] - 1s 92us/sample - loss: 0.1012 - acc: 0.9703 - val_loss: 0.3082 - val_acc: 0.8815\n",
            "Epoch 8/20\n",
            "15000/15000 [==============================] - 1s 92us/sample - loss: 0.0840 - acc: 0.9761 - val_loss: 0.3280 - val_acc: 0.8797\n",
            "Epoch 9/20\n",
            "15000/15000 [==============================] - 1s 92us/sample - loss: 0.0677 - acc: 0.9820 - val_loss: 0.3464 - val_acc: 0.8789\n",
            "Epoch 10/20\n",
            "15000/15000 [==============================] - 1s 92us/sample - loss: 0.0530 - acc: 0.9875 - val_loss: 0.3731 - val_acc: 0.8763\n",
            "Epoch 11/20\n",
            "15000/15000 [==============================] - 1s 92us/sample - loss: 0.0429 - acc: 0.9903 - val_loss: 0.4144 - val_acc: 0.8765\n",
            "Epoch 12/20\n",
            "15000/15000 [==============================] - 1s 92us/sample - loss: 0.0356 - acc: 0.9922 - val_loss: 0.4290 - val_acc: 0.8756\n",
            "Epoch 13/20\n",
            "15000/15000 [==============================] - 1s 92us/sample - loss: 0.0242 - acc: 0.9965 - val_loss: 0.4862 - val_acc: 0.8652\n",
            "Epoch 14/20\n",
            "15000/15000 [==============================] - 1s 93us/sample - loss: 0.0232 - acc: 0.9955 - val_loss: 0.4843 - val_acc: 0.8719\n",
            "Epoch 15/20\n",
            "15000/15000 [==============================] - 1s 92us/sample - loss: 0.0159 - acc: 0.9981 - val_loss: 0.5204 - val_acc: 0.8689\n",
            "Epoch 16/20\n",
            "15000/15000 [==============================] - 1s 92us/sample - loss: 0.0134 - acc: 0.9984 - val_loss: 0.5529 - val_acc: 0.8675\n",
            "Epoch 17/20\n",
            "15000/15000 [==============================] - 1s 92us/sample - loss: 0.0116 - acc: 0.9983 - val_loss: 0.5828 - val_acc: 0.8694\n",
            "Epoch 18/20\n",
            "15000/15000 [==============================] - 1s 92us/sample - loss: 0.0057 - acc: 0.9998 - val_loss: 0.6179 - val_acc: 0.8667\n",
            "Epoch 19/20\n",
            "15000/15000 [==============================] - 1s 93us/sample - loss: 0.0056 - acc: 0.9997 - val_loss: 0.6540 - val_acc: 0.8640\n",
            "Epoch 20/20\n",
            "15000/15000 [==============================] - 1s 92us/sample - loss: 0.0059 - acc: 0.9991 - val_loss: 0.6903 - val_acc: 0.8660\n"
          ],
          "name": "stdout"
        }
      ]
    },
    {
      "cell_type": "code",
      "metadata": {
        "id": "MXU3QStnJyRm",
        "colab_type": "code",
        "colab": {
          "base_uri": "https://localhost:8080/",
          "height": 487
        },
        "outputId": "e66ab9b3-d38e-44a8-82d8-e04fc92d7f14"
      },
      "source": [
        "import matplotlib.pyplot as plt\n",
        "\n",
        "history_dict = history.history\n",
        "loss =history_dict['loss']\n",
        "loss_val=history_dict['val_loss']\n",
        "\n",
        "epochs =range(1,len(loss)+1)\n",
        "\n",
        "plt.plot(epochs, loss, 'bo',label='Train_result')\n",
        "plt.plot(epochs, val_loss, 'b', label='Train_Val_result')\n",
        "plt.title('Training and validation loss')\n",
        "plt.xlabel('epochs')\n",
        "plt.ylabel('loss')\n",
        "plt.legand()\n",
        "plt.show()"
      ],
      "execution_count": 61,
      "outputs": [
        {
          "output_type": "error",
          "ename": "NameError",
          "evalue": "ignored",
          "traceback": [
            "\u001b[0;31m---------------------------------------------------------------------------\u001b[0m",
            "\u001b[0;31mNameError\u001b[0m                                 Traceback (most recent call last)",
            "\u001b[0;32m<ipython-input-61-f404db8d6662>\u001b[0m in \u001b[0;36m<module>\u001b[0;34m()\u001b[0m\n\u001b[1;32m      8\u001b[0m \u001b[0;34m\u001b[0m\u001b[0m\n\u001b[1;32m      9\u001b[0m \u001b[0mplt\u001b[0m\u001b[0;34m.\u001b[0m\u001b[0mplot\u001b[0m\u001b[0;34m(\u001b[0m\u001b[0mepochs\u001b[0m\u001b[0;34m,\u001b[0m \u001b[0mloss\u001b[0m\u001b[0;34m,\u001b[0m \u001b[0;34m'bo'\u001b[0m\u001b[0;34m,\u001b[0m\u001b[0mlabel\u001b[0m\u001b[0;34m=\u001b[0m\u001b[0;34m'Train_result'\u001b[0m\u001b[0;34m)\u001b[0m\u001b[0;34m\u001b[0m\u001b[0;34m\u001b[0m\u001b[0m\n\u001b[0;32m---> 10\u001b[0;31m \u001b[0mplt\u001b[0m\u001b[0;34m.\u001b[0m\u001b[0mplot\u001b[0m\u001b[0;34m(\u001b[0m\u001b[0mepochs\u001b[0m\u001b[0;34m,\u001b[0m \u001b[0mval_loss\u001b[0m\u001b[0;34m,\u001b[0m \u001b[0;34m'b'\u001b[0m\u001b[0;34m,\u001b[0m \u001b[0mlabel\u001b[0m\u001b[0;34m=\u001b[0m\u001b[0;34m'Train_Val_result'\u001b[0m\u001b[0;34m)\u001b[0m\u001b[0;34m\u001b[0m\u001b[0;34m\u001b[0m\u001b[0m\n\u001b[0m\u001b[1;32m     11\u001b[0m \u001b[0mplt\u001b[0m\u001b[0;34m.\u001b[0m\u001b[0mtitle\u001b[0m\u001b[0;34m(\u001b[0m\u001b[0;34m'Training and validation loss'\u001b[0m\u001b[0;34m)\u001b[0m\u001b[0;34m\u001b[0m\u001b[0;34m\u001b[0m\u001b[0m\n\u001b[1;32m     12\u001b[0m \u001b[0mplt\u001b[0m\u001b[0;34m.\u001b[0m\u001b[0mxlabel\u001b[0m\u001b[0;34m(\u001b[0m\u001b[0;34m'epochs'\u001b[0m\u001b[0;34m)\u001b[0m\u001b[0;34m\u001b[0m\u001b[0;34m\u001b[0m\u001b[0m\n",
            "\u001b[0;31mNameError\u001b[0m: name 'val_loss' is not defined"
          ]
        },
        {
          "output_type": "display_data",
          "data": {
            "image/png": "[encoded data removed]",
            "text/plain": [
              "<Figure size 432x288 with 1 Axes>"
            ]
          },
          "metadata": {
            "tags": []
          }
        }
      ]
    },
    {
      "cell_type": "code",
      "metadata": {
        "id": "nVspDdxrKFux",
        "colab_type": "code",
        "colab": {
          "base_uri": "https://localhost:8080/",
          "height": 34
        },
        "outputId": "65ccff34-12c3-4a29-f55a-c1e4d12bcbe9"
      },
      "source": [
        "history_dict."
      ],
      "execution_count": 60,
      "outputs": [
        {
          "output_type": "execute_result",
          "data": {
            "text/plain": [
              "<function dict.keys>"
            ]
          },
          "metadata": {
            "tags": []
          },
          "execution_count": 60
        }
      ]
    }
  ]
}